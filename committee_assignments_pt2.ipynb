{
 "cells": [
  {
   "cell_type": "code",
   "execution_count": 4,
   "metadata": {},
   "outputs": [],
   "source": [
    "url = \"https://www.govtrack.us/congress/members/all#all_role_types=2&all_role_states=NY\"\n",
    "from bs4 import BeautifulSoup\n",
    "import pandas as pd\n",
    "import numpy as np\n",
    "import requests\n",
    "from selenium import webdriver\n",
    "from selenium.webdriver.common.by import By\n",
    "from selenium.webdriver.support import expected_conditions as EC\n",
    "from selenium.webdriver.support.wait import WebDriverWait\n",
    "import time\n",
    "from rough_functions import * \n",
    "from new_functions import * \n"
   ]
  },
  {
   "cell_type": "code",
   "execution_count": 55,
   "metadata": {},
   "outputs": [
    {
     "name": "stdout",
     "output_type": "stream",
     "text": [
      "# of Unique Names: 228\n",
      "['Abigail Spanberger' 'Adam B. Schiff' 'Adam Kinzinger' 'Adrian Smith'\n",
      " 'Alan S. Lowenthal' 'Andrew Garbarino' 'Angus S. King, Jr.' 'Ann Wagner'\n",
      " 'Anthony E. Gonzalez' 'Ashley Hinson Arenholz' 'Aston Donald McEachin'\n",
      " 'August Lee Pfluger' 'Austin Scott' 'Benjamin L Cardin' 'Bill Cassidy'\n",
      " 'Bill Flores' 'Bill Hagerty' 'Bill Huizenga' 'Bill Pascrell' 'Billy Long'\n",
      " 'Blake Moore' 'Bob Gibbs' 'Brad Sherman' 'Bradley S. Schneider'\n",
      " 'Brian Higgins' 'Brian Mast' 'Carol Devine Miller' 'Carolyn B. Maloney'\n",
      " 'Charles J. \"Chuck\" Fleischmann' 'Chellie Pingree' 'Cheri Bustos'\n",
      " 'Chris Jacobs' 'Chris Van Hollen' 'Christopher A. Coons' 'Cliff Bentz'\n",
      " 'Cory A Booker' 'Cynthia Axne' 'Cynthia M. Lummis' 'Dan Crenshaw'\n",
      " 'Dan Daniel Bishop' 'Dan Newhouse' 'Dan Sullivan' 'Daniel Meuser'\n",
      " 'David B. McKinley' 'David Cheston Rouzer' 'David E. Price'\n",
      " 'David Kustoff' 'David Madison Cawthorn' 'David P. Joyce' 'David P. Roe'\n",
      " 'David Perdue' 'David Trone' 'Dean Phillips' 'Deb Fischer'\n",
      " 'Debbie Dingell' 'Debbie Wasserman Schultz' 'Deborah K. Ross'\n",
      " 'Diana Harshbarger' 'Donald S. Beyer, Jr.' 'Donna Shalala'\n",
      " 'Doris O. Matsui' 'Doug Lamborn' 'Dwight Evans' 'Earl Blumenauer'\n",
      " 'Earl Leroy Carter' 'Ed Case' 'Ed Perlmutter' 'Elaine Luria'\n",
      " 'Eleanor Holmes Norton' 'Felix Barry Moore' 'Francis Rooney'\n",
      " 'Frank Pallone' 'Fred Upton' 'Garret Graves' 'Gary C. Peters'\n",
      " 'George Holding' 'Gerald E. Connolly' 'Gilbert Cisneros' 'Grace Meng'\n",
      " 'Greg Francis Murphy' 'Greg Gianforte' 'Gus M. Bilirakis'\n",
      " 'Hakeem S. Jeffries' 'Harley E. Rouda' 'Harold Dallas Rogers' 'Jack Reed'\n",
      " 'Jacky Rosen' 'Jake Auchincloss' 'James Comer' 'James French Hill'\n",
      " 'James M. Costa' 'James M. Inhofe' 'James R. Langevin' 'Jamie Raskin'\n",
      " 'Jerry Moran' 'Jim Banks' 'Jim Hagedorn' 'Joe Courtney'\n",
      " 'Joe Manchin, Iii' 'John A. Yarmuth' 'John B. Larson' 'John Boozman'\n",
      " 'John Cornyn' 'John Curtis' 'John Garamendi' 'John Hoeven' 'John Kennedy'\n",
      " 'John Rutherford' 'John Thune' 'John W. Hickenlooper' 'John W. Rose'\n",
      " 'Joseph D. Morelle' 'Joseph P. Kennedy III' 'Josh Gottheimer' 'Judy Chu'\n",
      " 'Justin Amash' 'K. Michael Conaway' 'Katherine M. Clark' 'Kathy Castor'\n",
      " 'Kathy Manning' 'Kelly Loeffler' 'Ken Buck' 'Kenny Marchant' 'Kevin Hern'\n",
      " 'Kim Schrier' 'Kurt Schrader' 'Larry Bucshon' 'Linda T. Sanchez'\n",
      " 'Lindsey Graham' 'Lloyd Doggett' 'Lloyd K. Smucker' 'Lois Frankel'\n",
      " 'Lori Trahan' 'Maria Cantwell' 'Maria Elvira Salazar' 'Marie Newman'\n",
      " 'Mario Diaz-Balart' 'Marjorie Taylor Greene' 'Mark E. Green'\n",
      " 'Mark R. Warner' 'Mary Gay Scanlon' 'Matt Gaetz' 'Michael B. Enzi'\n",
      " 'Michael C. Burgess' 'Michael F. Bennet' 'Michael F. Q. San Nicolas'\n",
      " 'Michael K. Simpson' 'Michael Patrick Guest' 'Michael T. McCaul'\n",
      " 'Michael Waltz' 'Mike Gallagher' 'Mike Garcia' 'Mike Kelly'\n",
      " 'Mikie Sherrill' 'Mitch Mcconnell' 'Mo Brooks' 'Nancy Pelosi'\n",
      " 'Neal P. Dunn' 'Pat Roberts' 'Patrick Fallon' 'Patrick J. Toomey'\n",
      " 'Patrick T. McHenry' 'Patty Murray' 'Pete Sessions' 'Peter J. Visclosky'\n",
      " 'Peter Meijer' 'Peter Welch' 'Raúl M. Grijalva' 'Richard W. Allen'\n",
      " 'Ro Khanna' 'Robert B. Aderholt' 'Robert C. \"Bobby\" Scott'\n",
      " 'Robert E. Latta' 'Robert J. Wittman' 'Robert P. Casey, Jr.'\n",
      " 'Roger F. Wicker' 'Roger W. Marshall' 'Ron Estes' 'Ron Wyden' 'Roy Blunt'\n",
      " 'Rudy Yakym' 'S. Raja Krishnamoorthi' 'Sara Jacobs' 'Scott Franklin'\n",
      " 'Scott H. Peters' 'Sean Patrick Maloney' 'Seth Moulton' 'Sharice Davids'\n",
      " 'Sheldon Whitehouse' 'Shelley Moore Capito' 'Shri Thanedar'\n",
      " 'Stephanie Bice' 'Steve Chabot' 'Steve Cohen' 'Steve Womack'\n",
      " 'Susan A. Davis' 'Susan M. Collins' 'Susan W. Brooks' 'Susie Lee'\n",
      " 'Suzan K. DelBene' 'TJ Cox' 'Tammy Duckworth' 'Ted Cruz'\n",
      " 'Teresa Leger Fernandez' 'Thom Tillis' 'Thomas Massie' 'Thomas R. Carper'\n",
      " 'Thomas Suozzi' 'Tim Burchett' 'Tim Kaine' 'Tina Smith' 'Tom Cole'\n",
      " 'Tom Malinowski' \"Tom O'Halleran\" 'Tom Rice' 'Tom Udall'\n",
      " 'Tommy Tuberville' 'Trey Hollingsworth' 'Van Taylor' 'Vern Buchanan'\n",
      " 'Vicente Gonzalez' 'Victoria Spartz' 'Virginia Foxx' 'W. Gregory Steube'\n",
      " 'William R. Keating' 'William R. Timmons' 'Wm. Lacy Clay' 'Zoe Lofgren']\n"
     ]
    }
   ],
   "source": [
    "main_data = readData()\n",
    "main_data=main_data.drop(main_data[main_data['ticker'].isna()].index, axis=0)\n",
    "unique_names = np.unique(main_data['name'])\n",
    "print(\"# of Unique Names: \"+str(len(unique_names)))\n",
    "print(unique_names)\n"
   ]
  },
  {
   "cell_type": "code",
   "execution_count": 31,
   "metadata": {},
   "outputs": [],
   "source": [
    "data = {}\n"
   ]
  },
  {
   "cell_type": "code",
   "execution_count": 58,
   "metadata": {},
   "outputs": [],
   "source": [
    "def name_to_working(url):# either returns text of ul object or returns a NoneType\n",
    "    response=requests.get(url=url)\n",
    "    soup2 = BeautifulSoup(response.text, 'html.parser')\n",
    "    \n",
    "    header = soup2.find(\"span\",attrs={\"id\":\"Committee_assignments\"})\n",
    "    if header:\n",
    "        return header.findNext('ul').text.lower()\n",
    "    \n",
    "    header = soup2.find(\"span\",attrs={\"id\":\"Committee_assignment\"})\n",
    "    if header:\n",
    "        return header.findNext('ul').text.lower()\n",
    "    \n",
    "    header = soup2.find(\"span\",attrs={\"id\":\"Current_committee_assignments\"})\n",
    "    if header:\n",
    "        return header.findNext('ul').text.lower()\n",
    "    \n",
    "    header = soup2.find(\"span\",attrs={\"id\":\"Committees\"})\n",
    "    if header:\n",
    "        return header.findNext('ul').text.lower()\n",
    "\n",
    "    header = soup2.find(\"span\", text=\"Committee assignments\")\n",
    "    if header:\n",
    "        return header.findNext('ul').text.lower()\n",
    "    \n",
    "    header = soup2.find(\"span\", text=\"Committee assignments\")\n",
    "    if header:\n",
    "        return header.findNext('ul').text.lower()\n",
    "\n",
    "    header = soup2.find(\"b\", text=\"Committee assignments\")\n",
    "    if header:\n",
    "        return header.findNext('ul').text.lower()\n",
    "\n",
    "    return \"Cannot Find Data\"\n",
    "\n",
    "\n",
    "\n",
    "def raw_to_committee_data(raw):\n",
    "    committee_data = {}\n",
    "    for i in raw.split('\\n'):\n",
    "        if i[0:5]=='commi' or i[0:5]=='unite':\n",
    "            committee_data[i.split('committee on the ')[-1].split('committee on ')[-1]]=[]\n",
    "        elif i[0:5]=='subco':\n",
    "            committee_data.get(list(committee_data.keys())[-1]).append(i.replace('subcommittee on ',''))\n",
    "    return committee_data"
   ]
  },
  {
   "cell_type": "code",
   "execution_count": 61,
   "metadata": {},
   "outputs": [
    {
     "name": "stdout",
     "output_type": "stream",
     "text": [
      "{'wiki_link': 'https://en.wikipedia.org/wiki/Abigail_Spanberger', 'committee_data': {'agriculture': ['commodity exchanges, energy, and credit', 'conservation and forestry (chair)'], 'foreign affairs': ['asia, the pacific and nonproliferation', 'europe, eurasia, energy, and the environment']}}\n",
      "{'wiki_link': 'https://en.wikipedia.org/wiki/Adam_Schiff', 'committee_data': {}}\n",
      "{'wiki_link': 'https://en.wikipedia.org/wiki/Adam_Kinzinger', 'committee_data': {'energy and commerce[74]': ['communications and technology', 'energy'], 'foreign affairs[74]': ['the middle east, north africa, and international terrorism', 'europe, eurasia, energy, and the environment (ranking member)'], 'january 6 attack': []}}\n",
      "{'wiki_link': 'https://en.wikipedia.org/wiki/Adrian_Smith_(politician)', 'committee_data': {'ways and means': ['trade', 'social security', 'health']}}\n",
      "{'wiki_link': 'https://en.wikipedia.org/wiki/Alan_Lowenthal', 'committee_data': {}}\n",
      "{'wiki_link': 'https://en.wikipedia.org/wiki/Andrew_Garbarino', 'committee_data': {'homeland security': [], 'small business[29]': []}}\n",
      "{'wiki_link': 'https://en.wikipedia.org/wiki/Angus_King', 'committee_data': {'armed services': ['airland (2017–present)', 'personnel (2013–2017)', 'seapower', 'strategic forces (2013–2017; 2019–present) (chair, 2021–present)'], 'energy and natural resources (2015–present)': ['energy', 'national parks (chair, 2021–present)', 'public lands, forests, and mining (2021–present)', 'water and power (2015–2021)'], 'rules and administration': []}}\n",
      "{'wiki_link': 'https://en.wikipedia.org/wiki/Ann_Wagner', 'committee_data': {'financial services (vice ranking member)[35]': ['capital markets and government-sponsored enterprises', 'oversight and investigations'], 'foreign affairs (vice ranking member)': []}}\n",
      "{'wiki_link': 'https://en.wikipedia.org/wiki/Anthony_Gonzalez_(politician)', 'committee_data': {'financial services': ['housing, community development and insurance', 'national security, international development and monetary policy', 'diversity and inclusion'], 'science, space and technology': ['environment', 'research and technology'], 'climate crisis': []}}\n",
      "{'wiki_link': 'https://en.wikipedia.org/wiki/Ashley_Hinson', 'committee_data': {'appropriations[24]': ['transportation, and housing and urban development, and related agencies[25]', ' homeland security[26]'], 'budget[26]': []}}\n",
      "{'wiki_link': 'https://en.wikipedia.org/wiki/Donald_McEachin', 'committee_data': {'energy and commerce': ['communications and technology', 'energy', 'environment and climate change'], 'natural resources': []}}\n",
      "{'wiki_link': 'https://en.wikipedia.org/wiki/August_Pfluger', 'committee_data': {'homeland security': [], 'foreign affairs[17]': []}}\n",
      "{'wiki_link': 'https://en.wikipedia.org/wiki/Austin_Scott_(politician)', 'committee_data': {'agriculture': ['general farm commodities and risk management (ranking member)', 'commodity exchanges, energy, and credit', 'biotechnology, horticulture, and research'], 'armed services': ['readiness', 'intelligence and special operations']}}\n",
      "{'wiki_link': 'https://en.wikipedia.org/wiki/Ben_Cardin', 'committee_data': {}}\n",
      "{'wiki_link': 'https://en.wikipedia.org/wiki/Bill_Cassidy', 'committee_data': {'energy and natural resources': ['energy (chairman)', 'public lands, forests and mining', 'water and power'], 'finance': ['international trade, customs, and global competitiveness', 'social security, pensions, and family policy', 'health care', 'fiscal responsibility and economic growth'], 'health, education, labor, and pensions': ['children and families', 'employment and workplace safety', 'primary health and retirement security'], \"veterans' affairs\": []}}\n",
      "{'wiki_link': 'https://en.wikipedia.org/wiki/Bill_Flores', 'committee_data': {'energy and commerce': ['energy and power', 'environment and the economy', 'oversight and investigation'], \"veterans' affairs\": ['economic opportunity', 'health']}}\n",
      "{'wiki_link': 'https://en.wikipedia.org/wiki/Bill_Hagerty', 'committee_data': {'banking, housing, and urban affairs': [], 'foreign relations': [], 'appropriations': [], 'rules and administration': []}}\n",
      "{'wiki_link': 'https://en.wikipedia.org/wiki/Bill_Huizenga', 'committee_data': {'financial services': ['financial institutions and consumer credit', 'domestic monetary policy and technology', 'international monetary policy and trade']}}\n",
      "{'wiki_link': 'https://en.wikipedia.org/wiki/Bill_Pascrell', 'committee_data': {'ways and means[38]': []}}\n",
      "{'wiki_link': 'https://en.wikipedia.org/wiki/Billy_Long', 'committee_data': {'energy and commerce': ['energy and power', 'communications and technology', 'health']}}\n",
      "{'wiki_link': 'https://en.wikipedia.org/wiki/Blake_Moore', 'committee_data': {'armed services[30]': [], 'natural resources[31]': []}}\n",
      "{'wiki_link': 'https://en.wikipedia.org/wiki/Bob_Gibbs', 'committee_data': {'agriculture': ['conservation, energy, and forestry', 'general farm commodities and risk management'], 'transportation and infrastructure': ['economic development, public buildings and emergency management', 'highways and transit', 'water resources and environment (chair)']}}\n",
      "{'wiki_link': 'https://en.wikipedia.org/wiki/Brad_Sherman', 'committee_data': {'financial services': [], 'investor protection, entrepreneurship, and capital markets, chairman': [], 'housing, community development, and insurance': [], 'consumer protection and financial institutions': [], 'foreign affairs': ['asia, the pacific, and non-proliferation'], 'international development, international organizations, and global corporate social impact': [], 'middle east, north africa, and global counter-terrorism': [], 'science, space, and technology': [], 'space and aeronautics': []}}\n",
      "{'wiki_link': 'https://en.wikipedia.org/wiki/Brad_Schneider', 'committee_data': {'ways and means': ['health', 'social security'], 'foreign affairs': ['europe, energy, the environment and cyber', 'the middle east, north africa and global counterterrorism']}}\n",
      "{'wiki_link': 'https://en.wikipedia.org/wiki/Brian_Higgins', 'committee_data': {'ways and means': [], 'budget': []}}\n",
      "{'wiki_link': 'https://en.wikipedia.org/wiki/Brian_Mast', 'committee_data': {'foreign affairs': ['the middle east, north africa and global counterterrorism', 'europe, energy, the environment and cyber'], 'transportation and infrastructure': ['aviation', 'water resources and environment']}}\n",
      "{'wiki_link': 'https://en.wikipedia.org/wiki/Carol_Miller_(politician)', 'committee_data': {'oversight and reform': ['civil rights and civil liberties', 'economic and consumer policy'], 'transportation and infrastructure': ['coast guard and maritime transportation', 'economic development, public buildings and emergency management', 'highways and transit'], 'ways and means': ['trade', 'worker and family support']}}\n",
      "{'wiki_link': 'https://en.wikipedia.org/wiki/Carolyn_Maloney', 'committee_data': {'financial services': ['investor protection, entrepreneurship and capital markets', 'housing, community development and insurance'], 'oversight and reform (chair)': []}}\n",
      "{'wiki_link': 'https://en.wikipedia.org/wiki/Chuck_Fleischmann', 'committee_data': {'appropriations': ['energy and water appropriations', 'homeland security (ranking member)']}}\n",
      "{'wiki_link': 'https://en.wikipedia.org/wiki/Chellie_Pingree', 'committee_data': {'appropriations (2013–present)': ['agriculture, rural development, food and drug administration, and related agencies', 'interior, environment, and related agencies']}}\n",
      "{'wiki_link': 'https://en.wikipedia.org/wiki/Cheri_Bustos', 'committee_data': {}}\n",
      "{'wiki_link': 'https://en.wikipedia.org/wiki/Chris_Jacobs_(politician)', 'committee_data': {'agriculture': [], 'budget[40]': []}}\n",
      "{'wiki_link': 'https://en.wikipedia.org/wiki/Chris_Van_Hollen', 'committee_data': {'budget (ranking member)': []}}\n",
      "{'wiki_link': 'https://en.wikipedia.org/wiki/Chris_Coons', 'committee_data': {'appropriations': ['commerce, justice, science, and related agencies', 'energy and water development', 'financial services and general government', 'military construction and veterans affairs, and related agencies', 'the department of state, foreign operations, and related programs (chair)', 'transportation, housing and urban development, and related agencies'], 'foreign relations': ['africa and global health policy', 'east asia, the pacific, and international cybersecurity policy', 'europe and regional security cooperation'], 'judiciary': ['border security and immigration', 'the constitution', 'crime and terrorism', 'intellectual property (chair)'], 'small business and entrepreneurship': []}}\n",
      "{'wiki_link': 'https://en.wikipedia.org/wiki/Cliff_Bentz', 'committee_data': {'natural resources': ['water, oceans and wildlife (ranking member)', 'indigenous peoples of the united states'], 'judiciary[23]': ['courts, intellectual property and the internet', 'antitrust, commercial and administrative law']}}\n",
      "{'wiki_link': 'https://en.wikipedia.org/wiki/Cory_Booker', 'committee_data': {'agriculture, nutrition, and forestry (2021–present)[143]': ['conservation, climate, forestry, and natural resources', 'food and nutrition, specialty crops, organics, and research (chair)', 'livestock, dairy, poultry, local food systems, and food safety and security'], 'foreign relations (2017–present)': ['africa and global health policy', 'multilateral international development, multilateral institutions, and international economic, energy, and environmental policy', 'state department and usaid management, international operations, and bilateral international development(ranking)'], 'small business and entrepreneurship': [], 'judiciary (2018–present)': ['antitrust, competition policy and consumer rights', 'border security and immigration', 'crime and terrorism']}}\n",
      "{'wiki_link': 'https://en.wikipedia.org/wiki/Cindy_Axne', 'committee_data': {'agriculture': ['commodity exchanges, energy, and credit', 'conservation and forestry'], 'financial services': ['housing, community development and insurance', 'investor protection, entrepreneurship and capital markets']}}\n",
      "{'wiki_link': 'https://en.wikipedia.org/wiki/Cynthia_Lummis', 'committee_data': {}}\n",
      "{'wiki_link': 'https://en.wikipedia.org/wiki/Dan_Crenshaw', 'committee_data': {'energy and commerce': ['environment and climate change', 'health']}}\n",
      "{'wiki_link': 'https://en.wikipedia.org/wiki/Dan_Bishop', 'committee_data': {'homeland security': [], 'judiciary': []}}\n",
      "{'wiki_link': 'https://en.wikipedia.org/wiki/Dan_Newhouse', 'committee_data': {}}\n",
      "{'wiki_link': 'https://en.wikipedia.org/wiki/Dan_Sullivan_(U.S._senator)', 'committee_data': {'armed services': ['airland', 'readiness and management support (ranking member)', 'strategic forces'], 'commerce, science, and transportation': ['aviation operations, safety, and security', 'communications, technology, innovation, and the internet', 'oceans, atmosphere, fisheries, and coast guard', 'space, science and competitiveness', 'surface transportation and merchant marine infrastructure, safety, and security'], 'environment and public works': ['fisheries, water and wildlife', 'superfund, waste management, and regulatory oversight'], \"veterans' affairs\": []}}\n",
      "{'wiki_link': 'https://en.wikipedia.org/wiki/Dan_Meuser', 'committee_data': {'education and labor': ['higher education and workforce investment', 'health, employment, labor, and pensions'], \"veterans' affairs\": ['health', 'economic opportunity'], 'budget': []}}\n",
      "{'wiki_link': 'https://en.wikipedia.org/wiki/David_McKinley', 'committee_data': {'energy and commerce': ['energy and power', 'environment and climate change', 'oversight and investigations']}}\n",
      "{'wiki_link': 'https://en.wikipedia.org/wiki/David_Rouzer', 'committee_data': {}}\n",
      "{'wiki_link': 'https://en.wikipedia.org/wiki/David_Price_(American_politician)', 'committee_data': {'appropriations': ['homeland security', 'the legislative branch', 'transportation, housing and urban development, and related agencies (chair)']}}\n",
      "{'wiki_link': 'https://en.wikipedia.org/wiki/David_Kustoff', 'committee_data': {}}\n",
      "{'wiki_link': 'https://en.wikipedia.org/wiki/Madison_Cawthorn', 'committee_data': {}}\n",
      "{'wiki_link': 'https://en.wikipedia.org/wiki/David_Joyce_(politician)', 'committee_data': {'appropriations[25]': ['interior, environment, and related agencies (ranking member)[26]', 'financial services and general government[27]'], 'ethics[28]': []}}\n",
      "{'wiki_link': 'https://en.wikipedia.org/wiki/Phil_Roe_(politician)', 'committee_data': {\"veterans' affairs (ranking member)\": [], 'education and the workforce': ['early childhood, elementary and secondary education', 'health, employment, labor, and pensions']}}\n",
      "{'wiki_link': 'https://en.wikipedia.org/wiki/David_Perdue', 'committee_data': {}}\n",
      "{'wiki_link': 'https://en.wikipedia.org/wiki/David_Trone', 'committee_data': {'appropriations[64]': ['commerce, justice, science, and related agencies[65]', 'transportation, housing, and urban development, and related agencies[66]', \"military construction, veterans' affairs, and related agencies[67]\"], \"veterans' affairs[68]\": ['economic opportunity[69]', 'disability assistance and memorial affairs[70]'], 'united states congress joint economic committee[71]': []}}\n",
      "{'wiki_link': 'https://en.wikipedia.org/wiki/Dean_Phillips', 'committee_data': {'foreign affairs': ['the middle east, north africa and central asia'], 'small business': ['economic growth, tax and capital access', 'innovation, entrepreneurship, and workforce development']}}\n",
      "{'wiki_link': 'https://en.wikipedia.org/wiki/Deb_Fischer', 'committee_data': {'agriculture, nutrition, and forestry': ['livestock, marketing, and agriculture security'], 'armed services': ['emerging threats and capabilities', 'readiness and management support', 'strategic forces (ranking member)'], 'commerce, science and transportation': ['aviation operations, safety, and security', 'competitiveness, innovation, and export promotion', 'consumer protection, product safety, and insurance', 'oceans, atmosphere, fisheries, and coast guard', 'surface transportation and merchant marine infrastructure, safety, and security (ranking member)'], 'rules and administration': []}}\n",
      "{'wiki_link': 'https://en.wikipedia.org/wiki/Debbie_Dingell', 'committee_data': {'energy and commerce': ['health', 'communications & technology', 'consumer protection & commerce', 'the environment & climate change'], 'natural resources': ['national parks, forests, and public lands', 'oversight & investigations']}}\n",
      "{'wiki_link': 'https://en.wikipedia.org/wiki/Debbie_Wasserman_Schultz', 'committee_data': {'appropriations': [], 'military construction, veterans affairs, and related agencies (chairwoman)': [], 'energy and water development': [], 'oversight and reform': [], 'civil rights and civil liberties': [], 'national security': []}}\n",
      "{'wiki_link': 'https://en.wikipedia.org/wiki/Deborah_K._Ross', 'committee_data': {'judiciary[33]': ['courts, intellectual property and the internet'], 'rules[34]': [], 'science, space and technology[35]': ['energy', 'research and technology']}}\n",
      "{'wiki_link': 'https://en.wikipedia.org/wiki/Diana_Harshbarger', 'committee_data': {'education and labor': ['health, employment, labor, and pensions', 'higher education and workforce investment'], 'homeland security': ['cybersecurity, infrastructure protection and innovation', 'oversight, management and accountability']}}\n",
      "{'wiki_link': 'https://en.wikipedia.org/wiki/Don_Beyer', 'committee_data': {'science, space and technology': ['research and technology', 'space and aeronautics (chair)'], 'ways and means': ['trade', 'select revenue measures']}}\n",
      "{'wiki_link': 'https://en.wikipedia.org/wiki/Donna_Shalala', 'committee_data': {'education and labor': ['early childhood, elementary and secondary education'], 'health, employment, labor, and pensions': [], 'rules': []}}\n",
      "{'wiki_link': 'https://en.wikipedia.org/wiki/Doris_Matsui', 'committee_data': {'energy and commerce': ['communications and technology', 'environment', 'health', 'digital commerce & consumer protection']}}\n",
      "{'wiki_link': 'https://en.wikipedia.org/wiki/Doug_Lamborn', 'committee_data': {'armed services': ['readiness', 'strategic forces'], 'natural resources': ['energy and mineral resources', 'national parks, forests and public lands']}}\n",
      "{'wiki_link': 'https://en.wikipedia.org/wiki/Dwight_Evans_(politician)', 'committee_data': {'ways and means[46]': [], 'small business': []}}\n",
      "{'wiki_link': 'https://en.wikipedia.org/wiki/Earl_Blumenauer', 'committee_data': {'ways and means': ['health']}}\n",
      "{'wiki_link': 'https://en.wikipedia.org/wiki/Buddy_Carter', 'committee_data': {'energy and commerce': ['communications and technology', 'environment and climate change', 'health'], 'budget': []}}\n",
      "{'wiki_link': 'https://en.wikipedia.org/wiki/Ed_Case', 'committee_data': {}}\n",
      "{'wiki_link': 'https://en.wikipedia.org/wiki/Ed_Perlmutter', 'committee_data': {'financial services[7]': ['national security, international development and monetary policy[8]', 'oversight and investigations[9]'], 'science, space and technology': ['energy', 'space'], 'rules': []}}\n",
      "{'wiki_link': 'https://en.wikipedia.org/wiki/Elaine_Luria', 'committee_data': {'armed services (vice chair)[52]': ['seapower and projection forces', 'readiness'], \"veterans' affairs[53]\": ['disability assistance and memorial affairs (chair)[54]', 'oversight and investigations[52]'], 'homeland security[52]': ['transportation and maritime security']}}\n",
      "{'wiki_link': 'https://en.wikipedia.org/wiki/Eleanor_Holmes_Norton', 'committee_data': {'oversight and government reform': ['federal workforce, post office, and the district of columbia', 'information policy, census, and national archives'], 'transportation and infrastructure': ['aviation', 'economic development, public buildings and emergency management', 'water resources and environment']}}\n",
      "{'wiki_link': 'https://en.wikipedia.org/wiki/Barry_Moore_(Alabama_politician)', 'committee_data': {'agriculture': ['conservation and forestry[1]', 'livestock and foreign agriculture[1]'], \"veterans' affairs\": ['disability assistance and memorial affairs[1]', 'economic opportunity (ranking member)[1]']}}\n",
      "{'wiki_link': 'https://en.wikipedia.org/wiki/Francis_Rooney', 'committee_data': {'education and the workforce[14]': ['workforce protections[14]', 'health, employment, labor, and pensions[14]'], 'foreign affairs[15]': ['europe, eurasia and emerging threats[16]', 'the western hemisphere[17]']}}\n",
      "{'wiki_link': 'https://en.wikipedia.org/wiki/Frank_Pallone', 'committee_data': {'energy and commerce (ranking member)': ['communications and technology', 'environment and economy', 'health (former ranking member)']}}\n",
      "{'wiki_link': 'https://en.wikipedia.org/wiki/Fred_Upton', 'committee_data': {'energy and commerce': []}}\n",
      "{'wiki_link': 'https://en.wikipedia.org/wiki/Garret_Graves', 'committee_data': {}}\n",
      "{'wiki_link': 'https://en.wikipedia.org/wiki/Gary_Peters', 'committee_data': {'armed services': ['airland', 'emerging threats and capabilities (chairman)'], 'commerce, science, and transportation': ['aviation and space', 'communications, technology, innovation, and the internet', 'science, oceans, fisheries and weather', 'transportation and safety'], 'homeland security and governmental affairs (chairman)': []}}\n",
      "{'wiki_link': 'https://en.wikipedia.org/wiki/George_Holding', 'committee_data': {}}\n",
      "{'wiki_link': 'https://en.wikipedia.org/wiki/Gerry_Connolly', 'committee_data': {'foreign affairs (2009–present)': ['the middle east and south asia (2009–present)', 'asia and the pacific (2013–present)'], 'oversight and reform (2009–present)': ['government operations (chairman; 2013–present)', 'economic growth, job creation and regulatory affairs (2013–present)']}}\n",
      "{'wiki_link': 'https://en.wikipedia.org/wiki/Gil_Cisneros', 'committee_data': {'armed services': ['military personnel', 'seapower and projection forces'], \"veterans' affairs\": ['disability assistance and memorial affairs', 'health', 'oversight and investigations']}}\n",
      "{'wiki_link': 'https://en.wikipedia.org/wiki/Grace_Meng', 'committee_data': {'appropriations': ['commerce, justice, science, and related agencies', 'state, foreign operations, and related programs[41]']}}\n",
      "{'wiki_link': 'https://en.wikipedia.org/wiki/Greg_Murphy_(politician)', 'committee_data': {}}\n"
     ]
    },
    {
     "ename": "IndexError",
     "evalue": "list index out of range",
     "output_type": "error",
     "traceback": [
      "\u001b[1;31m---------------------------------------------------------------------------\u001b[0m",
      "\u001b[1;31mIndexError\u001b[0m                                Traceback (most recent call last)",
      "Cell \u001b[1;32mIn [61], line 18\u001b[0m\n\u001b[0;32m     15\u001b[0m link\u001b[39m=\u001b[39m(link[\u001b[39m'\u001b[39m\u001b[39mhref\u001b[39m\u001b[39m'\u001b[39m]\u001b[39m.\u001b[39msplit(\u001b[39m'\u001b[39m\u001b[39m%\u001b[39m\u001b[39m'\u001b[39m)[\u001b[39m0\u001b[39m]\u001b[39m.\u001b[39msplit(\u001b[39m'\u001b[39m\u001b[39m&\u001b[39m\u001b[39m'\u001b[39m)[\u001b[39m0\u001b[39m]\u001b[39m.\u001b[39msplit(\u001b[39m'\u001b[39m\u001b[39mq=\u001b[39m\u001b[39m'\u001b[39m)[\u001b[39m1\u001b[39m])\n\u001b[0;32m     17\u001b[0m raw \u001b[39m=\u001b[39m name_to_working(link)\n\u001b[1;32m---> 18\u001b[0m com_data\u001b[39m=\u001b[39mraw_to_committee_data(raw)\n\u001b[0;32m     20\u001b[0m d\u001b[39m=\u001b[39m{\n\u001b[0;32m     21\u001b[0m     \u001b[39m'\u001b[39m\u001b[39mwiki_link\u001b[39m\u001b[39m'\u001b[39m:link,\n\u001b[0;32m     22\u001b[0m     \u001b[39m'\u001b[39m\u001b[39mcommittee_data\u001b[39m\u001b[39m'\u001b[39m:com_data\n\u001b[0;32m     23\u001b[0m     }\n\u001b[0;32m     24\u001b[0m \u001b[39mprint\u001b[39m(d)\n",
      "Cell \u001b[1;32mIn [58], line 43\u001b[0m, in \u001b[0;36mraw_to_committee_data\u001b[1;34m(raw)\u001b[0m\n\u001b[0;32m     41\u001b[0m         committee_data[i\u001b[39m.\u001b[39msplit(\u001b[39m'\u001b[39m\u001b[39mcommittee on the \u001b[39m\u001b[39m'\u001b[39m)[\u001b[39m-\u001b[39m\u001b[39m1\u001b[39m]\u001b[39m.\u001b[39msplit(\u001b[39m'\u001b[39m\u001b[39mcommittee on \u001b[39m\u001b[39m'\u001b[39m)[\u001b[39m-\u001b[39m\u001b[39m1\u001b[39m]]\u001b[39m=\u001b[39m[]\n\u001b[0;32m     42\u001b[0m     \u001b[39melif\u001b[39;00m i[\u001b[39m0\u001b[39m:\u001b[39m5\u001b[39m]\u001b[39m==\u001b[39m\u001b[39m'\u001b[39m\u001b[39msubco\u001b[39m\u001b[39m'\u001b[39m:\n\u001b[1;32m---> 43\u001b[0m         committee_data\u001b[39m.\u001b[39mget(\u001b[39mlist\u001b[39;49m(committee_data\u001b[39m.\u001b[39;49mkeys())[\u001b[39m-\u001b[39;49m\u001b[39m1\u001b[39;49m])\u001b[39m.\u001b[39mappend(i\u001b[39m.\u001b[39mreplace(\u001b[39m'\u001b[39m\u001b[39msubcommittee on \u001b[39m\u001b[39m'\u001b[39m,\u001b[39m'\u001b[39m\u001b[39m'\u001b[39m))\n\u001b[0;32m     44\u001b[0m \u001b[39mreturn\u001b[39;00m committee_data\n",
      "\u001b[1;31mIndexError\u001b[0m: list index out of range"
     ]
    }
   ],
   "source": [
    "for i in unique_names:\n",
    "    search = 'Wikipedia politician '+str(list(main_data.loc[main_data['name']==unique_names[0]]['state'])[0])+\" \"+i.replace('\"','')\n",
    "    url = 'https://www.google.com/search'\n",
    "\n",
    "    parameters = {'q': search}\n",
    "\n",
    "    content = requests.get(url, params = parameters).text\n",
    "    soup = BeautifulSoup(content, 'html.parser')\n",
    "    links = soup.find_all('a')\n",
    "\n",
    "    for link in links:\n",
    "\n",
    "        if \"https://en.wikipedia.org/wiki/\" in link['href']:\n",
    "            \n",
    "            link=(link['href'].split('%')[0].split('&')[0].split('q=')[1])\n",
    "\n",
    "            raw = name_to_working(link)\n",
    "            com_data=raw_to_committee_data(raw)\n",
    "\n",
    "            d={\n",
    "                'wiki_link':link,\n",
    "                'raw':raw,\n",
    "                'committee_data':com_data\n",
    "                }\n",
    "            print(d)\n",
    "            data[i]=d\n",
    "            break\n"
   ]
  },
  {
   "cell_type": "code",
   "execution_count": 53,
   "metadata": {},
   "outputs": [
    {
     "data": {
      "text/plain": [
       "{}"
      ]
     },
     "execution_count": 53,
     "metadata": {},
     "output_type": "execute_result"
    }
   ],
   "source": [
    "data"
   ]
  },
  {
   "cell_type": "code",
   "execution_count": 38,
   "metadata": {},
   "outputs": [
    {
     "name": "stdout",
     "output_type": "stream",
     "text": [
      "Committee on the Judiciary\n",
      "Subcommittee on Crime, Terrorism and Homeland Security\n",
      "Subcommittee on Antitrust, Commercial and Administrative Law\n",
      "Subcommittee on Immigration and Citizenship\n",
      "Committee on Oversight and Reform\n",
      "Subcommittee on Government Operations\n",
      "Committee on Veterans' Affairs\n",
      "Subcommittee on Disability Assistance and Memorial Affairs\n",
      "Subcommittee on Health\n"
     ]
    }
   ],
   "source": []
  },
  {
   "cell_type": "code",
   "execution_count": 33,
   "metadata": {},
   "outputs": [],
   "source": [
    "for d in data.keys():\n",
    "    if data.get(d).get('rough')==None:\n",
    "        print(d)"
   ]
  },
  {
   "cell_type": "code",
   "execution_count": 111,
   "metadata": {},
   "outputs": [],
   "source": [
    "def scraper(full_name):\n",
    "    base_wiki = \"https://en.wikipedia.org/wiki/\"\n",
    "    name=full_name.split(', ')[0]\n",
    "    # print(str(i)+'  '+name)\n",
    "    url=base_wiki+name.split(' ')[0]+\"_\"+name.split(' ')[-1]\n",
    "    basic = name_to_working(url) #no manipulations to name/url\n",
    "    if basic:\n",
    "        return basic\n",
    "    \n",
    "    #try disambiguation attachment\n",
    "    url_dis=url+'_(politician)'\n",
    "    disambiguation = name_to_working(url_dis)\n",
    "    if disambiguation:\n",
    "        return disambiguation\n",
    "    \n",
    "    #try second/middle name\n",
    "    url=base_wiki+name.split(' ')[1]+\"_\"+name.split(' ')[-1]\n",
    "    second_name=name_to_working(url)\n",
    "    if second_name:\n",
    "        return second_name\n",
    "\n",
    "    #try middle name\n",
    "    if(len(name.split(' '))>2):\n",
    "        url=base_wiki+name.split(' ')[0]+\"_\"+name.split('.')[0][-1]+\"._\"+name.split(' ')[-1]\n",
    "        middle_name=name_to_working(url)\n",
    "        if middle_name:\n",
    "            return middle_name\n",
    "    #try three names\n",
    "        url=base_wiki+name.split(' ')[0]+\"_\"+name.split(' ')[-2]+\"_\"+name.split(' ')[-1]\n",
    "        three_names=name_to_working(url)\n",
    "        if three_names:\n",
    "            return three_names\n",
    "    #try first two names\n",
    "    url=base_wiki+name.split(' ')[0]+\"_\"+name.split(' ')[1]\n",
    "    first_two=name_to_working(url)\n",
    "    if first_two:\n",
    "        return first_two\n",
    "    \n",
    "\n",
    "\n",
    "    name_changes ={\n",
    "        'Robert P. Casey, Jr.':'Bob_Casey_Jr.',\n",
    "        \"Joseph P. Kennedy III\":\"Joe_Kennedy_III\"\n",
    "    }\n",
    "##SPECIAL ONE OFFS\n",
    "    if(full_name in list(name_changes.keys())):\n",
    "        url=base_wiki+name_changes.get(full_name)\n",
    "        out=name_to_working(url)\n",
    "        if out:\n",
    "            return out\n",
    "\n",
    "    return basic #give up\n",
    "\n"
   ]
  },
  {
   "cell_type": "code",
   "execution_count": 112,
   "metadata": {},
   "outputs": [
    {
     "name": "stdout",
     "output_type": "stream",
     "text": [
      "Ashley Hinson Arenholz\n",
      "Cynthia M. Lummis\n",
      "Dan Newhouse\n",
      "Dan Sullivan\n",
      "David Kustoff\n",
      "David Perdue\n",
      "Garret Graves\n",
      "Greg Francis Murphy\n",
      "James M. Inhofe\n",
      "John Curtis\n",
      "John Kennedy\n",
      "John Rutherford\n",
      "Joseph P. Kennedy III\n",
      "Michael B. Enzi\n",
      "Mike Kelly\n",
      "Mikie Sherrill\n",
      "Richard W. Allen\n",
      "Rudy Yakym\n",
      "Thom Tillis\n",
      "Tom Cole\n",
      "Vern Buchanan\n"
     ]
    }
   ],
   "source": [
    "failed_names = []\n",
    "for i in range(len(unique_names)):\n",
    "    if not (scraper(unique_names[i])):\n",
    "        print(unique_names[i])\n",
    "        failed_names.append(unique_names[i])\n"
   ]
  },
  {
   "cell_type": "code",
   "execution_count": 114,
   "metadata": {},
   "outputs": [
    {
     "name": "stdout",
     "output_type": "stream",
     "text": [
      "0.09210526315789473\n"
     ]
    }
   ],
   "source": [
    "print (len(failed_names)/len(unique_names))"
   ]
  },
  {
   "cell_type": "code",
   "execution_count": null,
   "metadata": {},
   "outputs": [],
   "source": [
    "\n",
    "options = webdriver.ChromeOptions() \n",
    "# options.add_argument('--user-data-dir=C:/Users/Rae-A/AppData/Local/Google/Chrome/User Data')\n",
    "# options.add_argument('--profile-directory=Default')\n",
    "# options.add_argument(\"--headless\")\n",
    "#options.add_experimental_option(\"useAutomationExtension\", False)\n",
    "#options.add_experimental_option(\"excludeSwitches\",[\"enable-automation\"])\n",
    "driver = webdriver.Chrome(options=options)\n",
    "driver.get(url)\n",
    "SCROLL_PAUSE_TIME = 0.5\n",
    "\n",
    "# Get scroll height\n",
    "last_height = driver.execute_script(\"return document.body.scrollHeight\")\n",
    "\n",
    "while True:\n",
    "    # Scroll down to bottom\n",
    "    driver.execute_script(\"window.scrollTo(0, document.body.scrollHeight);\")\n",
    "\n",
    "    # Wait to load page\n",
    "    time.sleep(SCROLL_PAUSE_TIME)\n",
    "\n",
    "    # Calculate new scroll height and compare with last scroll height\n",
    "    new_height = driver.execute_script(\"return document.body.scrollHeight\")\n",
    "    if new_height == last_height:\n",
    "        break\n",
    "    last_height = new_height"
   ]
  },
  {
   "cell_type": "code",
   "execution_count": null,
   "metadata": {},
   "outputs": [],
   "source": [
    "text = driver.find_element(By.XPATH, \"/html/body/div[1]/div[4]/div[2]/section/div/div[2]\").text\n",
    "num_from_state = (len(text.split('\\n'))/2) ##this gives the number of representatives from the state found\n"
   ]
  },
  {
   "cell_type": "code",
   "execution_count": null,
   "metadata": {},
   "outputs": [],
   "source": [
    "for i in range(0,int(num_from_state),2):\n",
    "    year = int(text.split('\\n')[i+1].split(', ')[-1][-4:])\n",
    "    name = text.split('\\n')[i]\n",
    "    if year>=2013:\n",
    "        print(name+\" - \"+str(year))\n"
   ]
  }
 ],
 "metadata": {
  "kernelspec": {
   "display_name": "base",
   "language": "python",
   "name": "python3"
  },
  "language_info": {
   "codemirror_mode": {
    "name": "ipython",
    "version": 3
   },
   "file_extension": ".py",
   "mimetype": "text/x-python",
   "name": "python",
   "nbconvert_exporter": "python",
   "pygments_lexer": "ipython3",
   "version": "3.9.7"
  },
  "orig_nbformat": 4,
  "vscode": {
   "interpreter": {
    "hash": "fbcab17ff234be685be1868c2a1335f7b95a9d9a67e735b66a6978944c9eeacb"
   }
  }
 },
 "nbformat": 4,
 "nbformat_minor": 2
}
