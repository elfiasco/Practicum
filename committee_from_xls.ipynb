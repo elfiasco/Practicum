{
 "cells": [
  {
   "cell_type": "code",
   "execution_count": 1,
   "metadata": {},
   "outputs": [],
   "source": [
    "import requests\n",
    "import pandas as pd\n",
    "import os\n",
    "import numpy as np\n",
    "state_names = [\"Alaska\", \"Alabama\", \"Arkansas\", \"American Samoa\", \"Arizona\", \"California\", \"Colorado\", \"Connecticut\", \"District \", \"of Columbia\", \"Delaware\", \"Florida\", \"Georgia\", \"Guam\", \"Hawaii\", \"Iowa\", \"Idaho\", \"Illinois\", \"Indiana\", \"Kansas\", \"Kentucky\", \"Louisiana\", \"Massachusetts\", \"Maryland\", \"Maine\", \"Michigan\", \"Minnesota\", \"Missouri\", \"Mississippi\", \"Montana\", \"North Carolina\", \"North Dakota\", \"Nebraska\", \"New Hampshire\", \"New Jersey\", \"New Mexico\", \"Nevada\", \"New York\", \"Ohio\", \"Oklahoma\", \"Oregon\", \"Pennsylvania\", \"Puerto Rico\", \"Rhode Island\", \"South Carolina\", \"South Dakota\", \"Tennessee\", \"Texas\", \"Utah\", \"Virginia\", \"Virgin Islands\", \"Vermont\", \"Washington\", \"Wisconsin\", \"West Virginia\", \"Wyoming\"]\n"
   ]
  },
  {
   "cell_type": "code",
   "execution_count": 10,
   "metadata": {},
   "outputs": [
    {
     "name": "stderr",
     "output_type": "stream",
     "text": [
      "C:\\Users\\benst\\AppData\\Local\\Temp\\ipykernel_4596\\247825586.py:6: FutureWarning: The default value of regex will change from True to False in a future version.\n",
      "  senate['Committee Name']=senate['Committee Name'].str.replace(s,'')\n",
      "C:\\Users\\benst\\AppData\\Local\\Temp\\ipykernel_4596\\247825586.py:7: FutureWarning: The default value of regex will change from True to False in a future version.\n",
      "  house['Committee Name']=house['Committee Name'].str.replace(s,'')\n"
     ]
    }
   ],
   "source": [
    "senate = pd.read_excel('senate_assignments_103-115-3.xls')\n",
    "house = pd.read_excel('house_assignments_103-115-3.xls')\n",
    "senate['Committee Name']=senate['Committee Name'].str.lower()\n",
    "house['Committee Name']=house['Committee Name'].str.lower()\n",
    "for s in [' \\(joint, select\\)',' \\(joint\\)',' \\(select\\)']:\n",
    "    senate['Committee Name']=senate['Committee Name'].str.replace(s,'')\n",
    "    house['Committee Name']=house['Committee Name'].str.replace(s,'')\n",
    "for i in [senate, house]:\n",
    "    for s in [\n",
    "        ['education and the workforce','education and the workforce/workplace'],\n",
    "        ['education and the workplace','education and the workforce/workplace'],\n",
    "        ['government reform and oversight','government reform'],\n",
    "        ['science, space, and technology','science'],\n",
    "        ['science and technology','science'],\n",
    "        ['science','science and technology'],\n",
    "        ['select committee on homeland security','homeland security'],\n",
    "        ['homeland security', 'national security']\n",
    "    ]:\n",
    "        \n",
    "        i['Committee Name']=i['Committee Name'].str.replace(s[0],s[1])\n",
    "\n",
    "senate=senate.dropna(axis=0)\n",
    "house=house.dropna(axis=0)"
   ]
  },
  {
   "cell_type": "code",
   "execution_count": 13,
   "metadata": {},
   "outputs": [
    {
     "name": "stdout",
     "output_type": "stream",
     "text": [
      "['deficit reduction', 'small business', 'financial services', 'natural resources', 'international relations', 'intelligence', 'resources', 'budget', 'ways and means', 'minority leader', 'standards of official conduct', 'science and technology', 'education and the workforce/workplace', 'armed services', 'energy independence and global warming', 'house oversight', 'investigate the voting irregularities of august 2, 2007', 'majority whip', 'house administration', 'energy and commerce', 'agriculture', 'printing', 'transportation and infrastructure', 'library', 'veterans affairs', 'banking and financial services', 'ethics', 'oversight and government reform', 'majority leader', 'education and labor', 'minority whip', 'national security', 'taxation', 'judiciary', 'homeland security', 'rules', 'government reform', 'speaker', 'foreign affairs', 'economic', 'appropriations']\n"
     ]
    }
   ],
   "source": [
    "print(list(set(list(np.unique(senate['Committee Name']))+list(np.unique(house['Committee Name'])))))"
   ]
  }
 ],
 "metadata": {
  "kernelspec": {
   "display_name": "base",
   "language": "python",
   "name": "python3"
  },
  "language_info": {
   "codemirror_mode": {
    "name": "ipython",
    "version": 3
   },
   "file_extension": ".py",
   "mimetype": "text/x-python",
   "name": "python",
   "nbconvert_exporter": "python",
   "pygments_lexer": "ipython3",
   "version": "3.9.7"
  },
  "orig_nbformat": 4,
  "vscode": {
   "interpreter": {
    "hash": "fbcab17ff234be685be1868c2a1335f7b95a9d9a67e735b66a6978944c9eeacb"
   }
  }
 },
 "nbformat": 4,
 "nbformat_minor": 2
}
