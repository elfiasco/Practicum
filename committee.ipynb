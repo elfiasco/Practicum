{
 "cells": [
  {
   "cell_type": "code",
   "execution_count": 2,
   "metadata": {},
   "outputs": [],
   "source": [
    "import requests\n",
    "import pandas as pd\n",
    "import os\n",
    "import numpy as np\n",
    "state_names = [\"Alaska\", \"Alabama\", \"Arkansas\", \"American Samoa\", \"Arizona\", \"California\", \"Colorado\", \"Connecticut\", \"District \", \"of Columbia\", \"Delaware\", \"Florida\", \"Georgia\", \"Guam\", \"Hawaii\", \"Iowa\", \"Idaho\", \"Illinois\", \"Indiana\", \"Kansas\", \"Kentucky\", \"Louisiana\", \"Massachusetts\", \"Maryland\", \"Maine\", \"Michigan\", \"Minnesota\", \"Missouri\", \"Mississippi\", \"Montana\", \"North Carolina\", \"North Dakota\", \"Nebraska\", \"New Hampshire\", \"New Jersey\", \"New Mexico\", \"Nevada\", \"New York\", \"Ohio\", \"Oklahoma\", \"Oregon\", \"Pennsylvania\", \"Puerto Rico\", \"Rhode Island\", \"South Carolina\", \"South Dakota\", \"Tennessee\", \"Texas\", \"Utah\", \"Virginia\", \"Virgin Islands\", \"Vermont\", \"Washington\", \"Wisconsin\", \"West Virginia\", \"Wyoming\"]\n",
    "\n",
    "unique_committees = ['labor', 'rules', 'health', 'energy', 'budget', 'banking', 'science', 'finance', 'housing', 'commerce', 'pensions', 'forestry', 'nutrition', 'education', 'agriculture', 'publicworks', 'environment', 'urbanaffairs', 'armedservices', 'appropriations', 'transportation', 'foreignrelations', 'homelandsecurity', 'naturalresources', 'governmentalaffairs', 'jointcongressionalcommitteeoninaugural']\n",
    "#^note, I copied this list after running the script before having this list, it can be re-created in this way with modifications to the code\n",
    "\n",
    "url = 'https://www.senate.gov/committees/committee_assignments.htm'\n",
    "\n",
    "import requests\n",
    "from bs4 import BeautifulSoup\n",
    "import PyPDF2\n",
    "\n",
    "reqs = requests.get(url)\n",
    "soup = BeautifulSoup(reqs.text, 'html.parser')\n",
    "from pathlib import Path\n",
    "\n",
    "\n",
    "\n",
    "\n",
    "\n",
    "urls = []\n",
    "for link in soup.find_all('a'):\n",
    "    if str(link.get('href'))[-3:]==\"pdf\":\n",
    "        l = str(link.get('href'))\n",
    "        if l[0]=='/':\n",
    "            l=\"https://www.senate.gov/\"+l\n",
    "        response = requests.get(l)\n",
    "        filename = Path('committee_pdfs/'+l.split('/')[-1]).write_bytes(response.content)"
   ]
  },
  {
   "attachments": {},
   "cell_type": "markdown",
   "metadata": {},
   "source": [
    "\\nVerDate Aug 31 2005 03:07 Mar 15, 2006 Jkt 026433 PO 00000 Frm 00031 Fmt 6608 Sfmt 6608 E:\\\\HR\\\\OC\\\\26433.XXX 26433ycherry on PROD1PC64 with HEARING\n",
    "\n",
    "\\nVerDate Aug 31 2005 03:07 Mar 15, 2006 Jkt 026433 PO 00000 Frm 00030 Fmt 6608 Sfmt 6608 E:\\\\HR\\\\OC\\\\26433.XXX 26433ycherry on PROD1PC64 with HEARING"
   ]
  },
  {
   "cell_type": "code",
   "execution_count": 25,
   "metadata": {},
   "outputs": [],
   "source": [
    "def dfFromPDF(pdf):\n",
    "    pdfFileObj = open(pdf, 'rb')\n",
    "    pdf = PyPDF2.PdfReader(pdfFileObj)\n",
    "\n",
    "    text=\"\"\n",
    "    for page in pdf.pages:\n",
    "        text=text+'\\n'+page.extract_text().split('\\nVerDate')[0]\n",
    "    year = (pdf.pages[0].extract_text().split('WASHINGTON : 1')[-1].split(' S.')[0].split(' ')[2])\n",
    "\n",
    "    # closing the pdf file object\n",
    "    pdfFileObj.close()\n",
    "    \n",
    "\n",
    "\n",
    "    text=text.split('COMMITTEE ASSIGNMENTS OF SENATORS')[1]\n",
    "    text=text.split('LIST OF SENATORS BY STATES ')[0]\n",
    "    for i in range(10):\n",
    "        text=text.replace(str(i), '')\n",
    "    # text.replace('Mrs. ', ' WOMAN')\n",
    "\n",
    "    \n",
    "\n",
    "    # print(repr(text))\n",
    "    text = text.replace('.','')\n",
    "    \n",
    "    \n",
    "    text = text.replace(' (chairman)','')\n",
    "    text=text.lower()\n",
    "    for s in state_names:\n",
    "        text=text.replace('of '+s.lower(),'')\n",
    "    text = text.replace('  ',' ')\n",
    "    text=text.replace('chairman','')\n",
    "    text=text.replace('(','')\n",
    "    text=text.replace(')','')\n",
    "    entries = text.split(' \\n')\n",
    "\n",
    "    # entries = str(entries).replace('\\n', '').replace(\"'\",'').replace('[','').replace('[','').split(', ')\n",
    "\n",
    "    member_list = []\n",
    "    for e in range(len(entries)):\n",
    "        member_dict = {}\n",
    "        if(entries[e][0:2]=='mr' or entries[e][0:3]=='mrs'):\n",
    "            \n",
    "\n",
    "            #gender\n",
    "            gender = 'M'\n",
    "            if (entries[e][0:3]=='mrs'):\n",
    "                gender='W'\n",
    "            member_dict['gender'] = gender\n",
    "            name = entries[e][3:].lower()\n",
    "\n",
    "            #year\n",
    "            member_dict['year']=int(year)\n",
    "\n",
    "            #name\n",
    "            if(name[0]==' '):\n",
    "                name=name[1:]\n",
    "            name=name.split(' ')[0]\n",
    "            # name=name.replace('\\n','')\n",
    "            name=name.capitalize()\n",
    "            member_dict['name'] = name\n",
    "\n",
    "            #committees\n",
    "            committees = entries[e][4:].split(' ',1)[1]#.replace(', and ', ', ').replace(' and ', ', ').split(', ')\n",
    "            if committees[0:1]==' ':\n",
    "                committees=committees[1:]\n",
    "            for i in range(10):\n",
    "                if committees[-1:]==' ':\n",
    "                    committees=committees[0:-1]\n",
    "            if committees[0:24]=='rules and administration':\n",
    "                committees='rules and administration'\n",
    "            if committees[0:14]=='appropriations':\n",
    "                committees='appropriations'\n",
    "            committees=str(committees).replace('hollen ','')\n",
    "            committees=str(committees).replace('ccaskill ','')\n",
    "            member_dict['committees'] = committees\n",
    "\n",
    "            member_list.append(member_dict)\n",
    "\n",
    "    df = pd.DataFrame(data=member_list)\n",
    "    return df\n",
    "\n",
    "# print(dfFromPDF('committee_pdfs/GPO-CPUB-109spub20.pdf'))"
   ]
  },
  {
   "cell_type": "code",
   "execution_count": 24,
   "metadata": {},
   "outputs": [
    {
     "name": "stdout",
     "output_type": "stream",
     "text": [
      "2006\n",
      "2007\n",
      "2007\n",
      "2009\n",
      "2009\n",
      "2010\n",
      "2010\n",
      "2010\n",
      "2009\n",
      "2011\n",
      "2014\n",
      "2014\n",
      "2013\n",
      "2015\n",
      "2018\n",
      "2017\n",
      "2019\n",
      "2021\n"
     ]
    }
   ],
   "source": [
    "def test(pdf):\n",
    "    pdfFileObj = open(pdf, 'rb')\n",
    "    pdf = PyPDF2.PdfReader(pdfFileObj)\n",
    "\n",
    "    \n",
    "    year = (pdf.pages[0].extract_text().split('WASHINGTON : 1')[-1].split(' S.')[0].split(' ')[2])\n",
    "    print(year)\n",
    "    # closing the pdf file object\n",
    "    pdfFileObj.close()\n",
    "\n",
    "\n",
    "directory = 'committee_pdfs'\n",
    "dfs = []\n",
    "for filename in os.listdir(directory):\n",
    "    if str(filename)[0:3]=='GPO':\n",
    "        test('committee_pdfs/'+str(filename))"
   ]
  },
  {
   "cell_type": "code",
   "execution_count": 27,
   "metadata": {},
   "outputs": [
    {
     "data": {
      "text/html": [
       "<div>\n",
       "<style scoped>\n",
       "    .dataframe tbody tr th:only-of-type {\n",
       "        vertical-align: middle;\n",
       "    }\n",
       "\n",
       "    .dataframe tbody tr th {\n",
       "        vertical-align: top;\n",
       "    }\n",
       "\n",
       "    .dataframe thead th {\n",
       "        text-align: right;\n",
       "    }\n",
       "</style>\n",
       "<table border=\"1\" class=\"dataframe\">\n",
       "  <thead>\n",
       "    <tr style=\"text-align: right;\">\n",
       "      <th></th>\n",
       "      <th>gender</th>\n",
       "      <th>year</th>\n",
       "      <th>name</th>\n",
       "      <th>committees</th>\n",
       "    </tr>\n",
       "  </thead>\n",
       "  <tbody>\n",
       "    <tr>\n",
       "      <th>0</th>\n",
       "      <td>M</td>\n",
       "      <td>2006</td>\n",
       "      <td>Akaka</td>\n",
       "      <td>armed services</td>\n",
       "    </tr>\n",
       "    <tr>\n",
       "      <th>1</th>\n",
       "      <td>M</td>\n",
       "      <td>2006</td>\n",
       "      <td>Alexander</td>\n",
       "      <td>budget</td>\n",
       "    </tr>\n",
       "    <tr>\n",
       "      <th>2</th>\n",
       "      <td>M</td>\n",
       "      <td>2006</td>\n",
       "      <td>Allard</td>\n",
       "      <td>appropriations</td>\n",
       "    </tr>\n",
       "    <tr>\n",
       "      <th>3</th>\n",
       "      <td>M</td>\n",
       "      <td>2006</td>\n",
       "      <td>Allen</td>\n",
       "      <td>commerce, science, and transportation</td>\n",
       "    </tr>\n",
       "    <tr>\n",
       "      <th>4</th>\n",
       "      <td>M</td>\n",
       "      <td>2006</td>\n",
       "      <td>Baucus</td>\n",
       "      <td>agriculture, nutrition, and forestry</td>\n",
       "    </tr>\n",
       "  </tbody>\n",
       "</table>\n",
       "</div>"
      ],
      "text/plain": [
       "  gender  year       name                             committees\n",
       "0      M  2006      Akaka                         armed services\n",
       "1      M  2006  Alexander                                 budget\n",
       "2      M  2006     Allard                         appropriations\n",
       "3      M  2006      Allen  commerce, science, and transportation\n",
       "4      M  2006     Baucus   agriculture, nutrition, and forestry"
      ]
     },
     "execution_count": 27,
     "metadata": {},
     "output_type": "execute_result"
    }
   ],
   "source": [
    "\n",
    "\n",
    "directory = 'committee_pdfs'\n",
    "dfs = []\n",
    "for filename in os.listdir(directory):\n",
    "    if str(filename)[0:3]=='GPO':\n",
    "        dfs.append(dfFromPDF('committee_pdfs/'+str(filename)))\n",
    "\n",
    "df = pd.concat(dfs)\n",
    "df.to_csv(\"committees.csv\")\n",
    "df.head()\n"
   ]
  },
  {
   "cell_type": "code",
   "execution_count": 70,
   "metadata": {},
   "outputs": [
    {
     "data": {
      "text/plain": [
       "array(['agriculture, nutrition, and forestry', 'appropriations',\n",
       "       'armed service', 'armed services',\n",
       "       'banking, housing, and urban affairs', 'budget',\n",
       "       'commerce, science, and transportation',\n",
       "       'energy and natural resources', 'environment and public works',\n",
       "       'finance', 'foreign relations',\n",
       "       'health, education, labor, and pensions',\n",
       "       'homeland security and governmental affairs',\n",
       "       'joint congressional committee on inaugural',\n",
       "       'rules and administration'], dtype=object)"
      ]
     },
     "execution_count": 70,
     "metadata": {},
     "output_type": "execute_result"
    }
   ],
   "source": [
    "np.unique(df['committees'])"
   ]
  },
  {
   "cell_type": "code",
   "execution_count": 29,
   "metadata": {},
   "outputs": [
    {
     "ename": "SyntaxError",
     "evalue": "invalid syntax (1823820931.py, line 10)",
     "output_type": "error",
     "traceback": [
      "\u001b[1;36m  Cell \u001b[1;32mIn [29], line 10\u001b[1;36m\u001b[0m\n\u001b[1;33m    'commerce, science, and transportation':,\u001b[0m\n\u001b[1;37m                                            ^\u001b[0m\n\u001b[1;31mSyntaxError\u001b[0m\u001b[1;31m:\u001b[0m invalid syntax\n"
     ]
    }
   ],
   "source": [
    "equivalents = {\n",
    "    'finance':'financial services',\n",
    "    'agriculture, nutrition, and forestry':'agriculture',\n",
    "    'budget':'budget',\n",
    "    'appropriations':'appropriations',\n",
    "    'armed service':'national security',\n",
    "    'armed services':'national security',\n",
    "    'banking, housing, and urban affairs':'banking and financial services', \n",
    "    'budget':,\n",
    "    'commerce, science, and transportation':,\n",
    "    'energy and natural resources':, \n",
    "    'environment and public works':,\n",
    "    'finance', 'foreign relations':,\n",
    "    'health, education, labor, and pensions':,\n",
    "    'homeland security and governmental affairs':,\n",
    "    'joint congressional committee on inaugural':,\n",
    "    'rules and administration':\n",
    "}"
   ]
  },
  {
   "cell_type": "code",
   "execution_count": 72,
   "metadata": {},
   "outputs": [
    {
     "name": "stdout",
     "output_type": "stream",
     "text": [
      "['deficit reduction', 'small business', 'financial services', 'natural resources', 'international relations', 'intelligence', 'resources', 'budget', 'ways and means', 'minority leader', 'standards of official conduct', 'science and technology', 'education and the workforce/workplace', 'armed services', 'energy independence and global warming', 'house oversight', 'investigate the voting irregularities of august 2, 2007', 'majority whip', 'house administration', 'energy and commerce', 'agriculture', 'printing', 'transportation and infrastructure', 'library', 'veterans affairs', 'banking and financial services', 'ethics', 'oversight and government reform', 'majority leader', 'education and labor', 'minority whip', 'national security', 'taxation', 'judiciary', 'homeland security', 'rules', 'government reform', 'speaker', 'foreign affairs', 'economic', 'appropriations']\n"
     ]
    }
   ],
   "source": [
    "xls_unique_committees = ['deficit reduction', 'small business', 'financial services', 'natural resources', 'international relations', 'intelligence', 'resources', 'budget', 'ways and means', 'minority leader', 'standards of official conduct', 'science and technology', 'education and the workforce/workplace', 'armed services', 'energy independence and global warming', 'house oversight', 'investigate the voting irregularities of august 2, 2007', 'majority whip', 'house administration', 'energy and commerce', 'agriculture', 'printing', 'transportation and infrastructure', 'library', 'veterans affairs', 'banking and financial services', 'ethics', 'oversight and government reform', 'majority leader', 'education and labor', 'minority whip', 'national security', 'taxation', 'judiciary', 'homeland security', 'rules', 'government reform', 'speaker', 'foreign affairs', 'economic', 'appropriations']\n",
    "print(xls_unique_committees)"
   ]
  },
  {
   "cell_type": "code",
   "execution_count": null,
   "metadata": {},
   "outputs": [
    {
     "name": "stderr",
     "output_type": "stream",
     "text": [
      "C:\\Users\\benst\\AppData\\Local\\Temp\\ipykernel_30128\\3078399620.py:2: FutureWarning: The default value of regex will change from True to False in a future version. In addition, single character regular expressions will *not* be treated as literal strings when regex=True.\n",
      "  df['committees'] = df['committees'].str.replace(\"'\",'').str.replace('\"','').str.replace(\"[\",'').str.replace(\"]\",'').str.split(', ')\n"
     ]
    },
    {
     "data": {
      "text/plain": [
       "['armedservices']"
      ]
     },
     "execution_count": 13,
     "metadata": {},
     "output_type": "execute_result"
    }
   ],
   "source": [
    "df = pd.read_csv(\"committees.csv\", usecols=['gender', 'year', 'name', 'committees'])\n",
    "df['committees'] = df['committees'].str.replace(\"'\",'').str.replace('\"','').str.replace(\"[\",'').str.replace(\"]\",'').str.split(', ')\n",
    "df.loc[0, 'committees']"
   ]
  },
  {
   "cell_type": "code",
   "execution_count": null,
   "metadata": {},
   "outputs": [
    {
     "ename": "NameError",
     "evalue": "name 'df' is not defined",
     "output_type": "error",
     "traceback": [
      "\u001b[1;31m---------------------------------------------------------------------------\u001b[0m",
      "\u001b[1;31mNameError\u001b[0m                                 Traceback (most recent call last)",
      "Cell \u001b[1;32mIn [7], line 8\u001b[0m\n\u001b[0;32m      5\u001b[0m     result \u001b[39m=\u001b[39m \u001b[39mlist\u001b[39m(\u001b[39mset\u001b[39m((\u001b[39mstr\u001b[39m(list_of_lists\u001b[39m.\u001b[39msum())\u001b[39m.\u001b[39mreplace(\u001b[39m\"\u001b[39m\u001b[39m'\u001b[39m\u001b[39m\"\u001b[39m,\u001b[39m'\u001b[39m\u001b[39m'\u001b[39m)\u001b[39m.\u001b[39mreplace(\u001b[39m'\u001b[39m\u001b[39m[]\u001b[39m\u001b[39m'\u001b[39m,\u001b[39m'\u001b[39m\u001b[39m,\u001b[39m\u001b[39m'\u001b[39m)\u001b[39m.\u001b[39mreplace(\u001b[39m'\u001b[39m\u001b[39m[\u001b[39m\u001b[39m'\u001b[39m,\u001b[39m'\u001b[39m\u001b[39m'\u001b[39m)\u001b[39m.\u001b[39mreplace(\u001b[39m'\u001b[39m\u001b[39m]\u001b[39m\u001b[39m'\u001b[39m,\u001b[39m'\u001b[39m\u001b[39m'\u001b[39m)\u001b[39m.\u001b[39mreplace(\u001b[39m'\u001b[39m\u001b[39m, \u001b[39m\u001b[39m'\u001b[39m,\u001b[39m'\u001b[39m\u001b[39m,\u001b[39m\u001b[39m'\u001b[39m)\u001b[39m.\u001b[39mreplace(\u001b[39m'\u001b[39m\u001b[39m \u001b[39m\u001b[39m'\u001b[39m,\u001b[39m'\u001b[39m\u001b[39m'\u001b[39m))\u001b[39m.\u001b[39msplit(\u001b[39m'\u001b[39m\u001b[39m,\u001b[39m\u001b[39m'\u001b[39m)))\n\u001b[0;32m      6\u001b[0m     \u001b[39mreturn\u001b[39;00m result\n\u001b[1;32m----> 8\u001b[0m \u001b[39mprint\u001b[39m(getCommitteesByName(\u001b[39m'\u001b[39;49m\u001b[39mBooker\u001b[39;49m\u001b[39m'\u001b[39;49m))\n\u001b[0;32m     10\u001b[0m unique_committees_series \u001b[39m=\u001b[39m (pd\u001b[39m.\u001b[39mSeries(\u001b[39msorted\u001b[39m(\u001b[39mlist\u001b[39m({x \u001b[39mfor\u001b[39;00m l \u001b[39min\u001b[39;00m df[\u001b[39m'\u001b[39m\u001b[39mcommittees\u001b[39m\u001b[39m'\u001b[39m] \u001b[39mfor\u001b[39;00m x \u001b[39min\u001b[39;00m l}),key\u001b[39m=\u001b[39m\u001b[39mlen\u001b[39m)))\n\u001b[0;32m     11\u001b[0m unique_committees_series\u001b[39m=\u001b[39munique_committees_series[unique_committees_series\u001b[39m.\u001b[39mstr\u001b[39m.\u001b[39mcontains(\u001b[39m'\u001b[39m\u001b[39mmr\u001b[39m\u001b[39m'\u001b[39m)\u001b[39m==\u001b[39m\u001b[39mFalse\u001b[39;00m]\n",
      "Cell \u001b[1;32mIn [7], line 2\u001b[0m, in \u001b[0;36mgetCommitteesByName\u001b[1;34m(name, min_year, max_year)\u001b[0m\n\u001b[0;32m      1\u001b[0m \u001b[39mdef\u001b[39;00m \u001b[39mgetCommitteesByName\u001b[39m(name, min_year\u001b[39m=\u001b[39m\u001b[39m2005\u001b[39m, max_year\u001b[39m=\u001b[39m\u001b[39m2023\u001b[39m):\n\u001b[1;32m----> 2\u001b[0m     list_of_lists \u001b[39m=\u001b[39m (df\u001b[39m.\u001b[39mloc[df[(df[\u001b[39m'\u001b[39m\u001b[39mname\u001b[39m\u001b[39m'\u001b[39m]\u001b[39m.\u001b[39mstr\u001b[39m.\u001b[39mcontains(name\u001b[39m.\u001b[39mlower()\u001b[39m.\u001b[39mcapitalize())) \u001b[39m&\u001b[39m (df[\u001b[39m'\u001b[39m\u001b[39myear\u001b[39m\u001b[39m'\u001b[39m]\u001b[39m>\u001b[39m\u001b[39m=\u001b[39mmin_year) \u001b[39m&\u001b[39m (df[\u001b[39m'\u001b[39m\u001b[39myear\u001b[39m\u001b[39m'\u001b[39m]\u001b[39m<\u001b[39m\u001b[39m=\u001b[39mmax_year)]\u001b[39m.\u001b[39mindex, \u001b[39m'\u001b[39m\u001b[39mcommittees\u001b[39m\u001b[39m'\u001b[39m])\n\u001b[0;32m      3\u001b[0m     \u001b[39mif\u001b[39;00m \u001b[39mlen\u001b[39m(list_of_lists)\u001b[39m==\u001b[39m\u001b[39m0\u001b[39m:\n\u001b[0;32m      4\u001b[0m         \u001b[39mreturn\u001b[39;00m []\n",
      "\u001b[1;31mNameError\u001b[0m: name 'df' is not defined"
     ]
    }
   ],
   "source": [
    "def getCommitteesByName(name, min_year=2005, max_year=2023):\n",
    "    list_of_lists = (df.loc[df[(df['name'].str.contains(name.lower().capitalize())) & (df['year']>=min_year) & (df['year']<=max_year)].index, 'committees'])\n",
    "    if len(list_of_lists)==0:\n",
    "        return []\n",
    "    result = list(set((str(list_of_lists.sum()).replace(\"'\",'').replace('[]',',').replace('[','').replace(']','').replace(', ',',').replace(' ','')).split(',')))\n",
    "    return result\n",
    "\n",
    "print(getCommitteesByName('Booker'))\n",
    "\n",
    "unique_committees_series = (pd.Series(sorted(list({x for l in df['committees'] for x in l}),key=len)))\n",
    "unique_committees_series=unique_committees_series[unique_committees_series.str.contains('mr')==False]\n",
    "unique_committees=[]\n",
    "for c in unique_committees_series:\n",
    "    add=True\n",
    "    if len(unique_committees)>0:\n",
    "        \n",
    "        for l in unique_committees:\n",
    "            if l in c:\n",
    "                # add=False\n",
    "                print()\n",
    "    if(add==True):\n",
    "        unique_committees.append(c)\n",
    "\n",
    "str(unique_committees)\n"
   ]
  }
 ],
 "metadata": {
  "kernelspec": {
   "display_name": "base",
   "language": "python",
   "name": "python3"
  },
  "language_info": {
   "codemirror_mode": {
    "name": "ipython",
    "version": 3
   },
   "file_extension": ".py",
   "mimetype": "text/x-python",
   "name": "python",
   "nbconvert_exporter": "python",
   "pygments_lexer": "ipython3",
   "version": "3.9.7"
  },
  "orig_nbformat": 4,
  "vscode": {
   "interpreter": {
    "hash": "fbcab17ff234be685be1868c2a1335f7b95a9d9a67e735b66a6978944c9eeacb"
   }
  }
 },
 "nbformat": 4,
 "nbformat_minor": 2
}
