{
 "cells": [
  {
   "cell_type": "code",
   "execution_count": 3,
   "metadata": {},
   "outputs": [],
   "source": [
    "\n",
    "import twitter\n",
    "\n",
    "import sys\n",
    "import re, string\n",
    "import numpy as np\n",
    "import matplotlib.pyplot as plt\n",
    "from wordcloud import WordCloud"
   ]
  },
  {
   "cell_type": "code",
   "execution_count": 4,
   "metadata": {},
   "outputs": [
    {
     "ename": "AttributeError",
     "evalue": "module 'twitter' has no attribute 'Api'",
     "output_type": "error",
     "traceback": [
      "\u001b[1;31m---------------------------------------------------------------------------\u001b[0m",
      "\u001b[1;31mAttributeError\u001b[0m                            Traceback (most recent call last)",
      "Cell \u001b[1;32mIn [4], line 1\u001b[0m\n\u001b[1;32m----> 1\u001b[0m api \u001b[39m=\u001b[39m twitter\u001b[39m.\u001b[39;49mApi(consumer_key\u001b[39m=\u001b[39m \u001b[39m'\u001b[39m\u001b[39mYtasGfq4e1eaQlyxORjB2sxZf\u001b[39m\u001b[39m'\u001b[39m, consumer_secret\u001b[39m=\u001b[39m \u001b[39m'\u001b[39m\u001b[39md08kkk8ebKMXvZmuXCXWVZLbcuvAmXTmx3OOi7nGEv1lEuI63P\u001b[39m\u001b[39m'\u001b[39m, access_token_key \u001b[39m=\u001b[39m \u001b[39m'\u001b[39m\u001b[39m1493679481126543364-efMLYxbCLjtrbHLcuEcf05kG87mROl\u001b[39m\u001b[39m'\u001b[39m, access_token_secret\u001b[39m=\u001b[39m \u001b[39m'\u001b[39m\u001b[39mpEVF6humQuh0zoYL7bzfKu8QcF2eMl8j2dBKSw005ogJ0\u001b[39m\u001b[39m'\u001b[39m, sleep_on_rate_limit\u001b[39m=\u001b[39m\u001b[39mTrue\u001b[39;00m)\n",
      "\u001b[1;31mAttributeError\u001b[0m: module 'twitter' has no attribute 'Api'"
     ]
    }
   ],
   "source": [
    "\n",
    "api = twitter.Api(consumer_key= 'YtasGfq4e1eaQlyxORjB2sxZf', consumer_secret= 'd08kkk8ebKMXvZmuXCXWVZLbcuvAmXTmx3OOi7nGEv1lEuI63P', access_token_key = '1493679481126543364-efMLYxbCLjtrbHLcuEcf05kG87mROl', access_token_secret= 'pEVF6humQuh0zoYL7bzfKu8QcF2eMl8j2dBKSw005ogJ0', sleep_on_rate_limit=True)"
   ]
  },
  {
   "cell_type": "code",
   "execution_count": null,
   "metadata": {},
   "outputs": [],
   "source": [
    "def getResults(searchTerm, untilID):\n",
    "    \n",
    "    # This fuction will return a list of tweets.\n",
    "    # We will use api.GetSearch() in order to pull the Twitter data\n",
    "    #\n",
    "    # There are several parameters that we will need to include:\n",
    "    #\n",
    "    #     term: string, the term that is being searched\n",
    "    #     since: string in format 'YYYY-MM-DD' which will serve as the earliest date\n",
    "    #     until: string in format 'YYYY-MM-DD' which will serve as the latest data \n",
    "    #     count: int, the number of tweets to return, max of 100\n",
    "    #     result_type: string, type of sorting for tweets. Typically 'recent'\n",
    "    #     max_id: int, another check to limit the tweets returned. Typically sys.maxsize\n",
    "    #     lang: string, indication of the language being used. We recommend leaving lang as 'en'.\n",
    "    #\n",
    "    # You are free to change these however you wish.\n",
    "    #\n",
    "    # CAUTION: The 'since' variable must be at most a week prior to the current date!\n",
    "    #          If you would like to search further, you must apply through Twitter\n",
    "    \n",
    "    \n",
    "    results = api.GetSearch(term = searchTerm, since = 2022-2-14, until = 22-2-20, count = 100, result_type = 'recent', max_id = sys.maxsize, lang = 'en')\n",
    "    \n",
    "    return results"
   ]
  }
 ],
 "metadata": {
  "kernelspec": {
   "display_name": "base",
   "language": "python",
   "name": "python3"
  },
  "language_info": {
   "codemirror_mode": {
    "name": "ipython",
    "version": 3
   },
   "file_extension": ".py",
   "mimetype": "text/x-python",
   "name": "python",
   "nbconvert_exporter": "python",
   "pygments_lexer": "ipython3",
   "version": "3.9.7"
  },
  "orig_nbformat": 4,
  "vscode": {
   "interpreter": {
    "hash": "fbcab17ff234be685be1868c2a1335f7b95a9d9a67e735b66a6978944c9eeacb"
   }
  }
 },
 "nbformat": 4,
 "nbformat_minor": 2
}
